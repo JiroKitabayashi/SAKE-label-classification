{
 "cells": [
  {
   "cell_type": "code",
   "execution_count": 1,
   "metadata": {
    "collapsed": false
   },
   "outputs": [
    {
     "ename": "SyntaxError",
     "evalue": "invalid syntax (<ipython-input-1-50447913ed23>, line 50)",
     "output_type": "error",
     "traceback": [
      "\u001b[0;36m  File \u001b[0;32m\"<ipython-input-1-50447913ed23>\"\u001b[0;36m, line \u001b[0;32m50\u001b[0m\n\u001b[0;31m    print \"[%03d]Donloading.. %s\"%(cntr,img)\u001b[0m\n\u001b[0m                                ^\u001b[0m\n\u001b[0;31mSyntaxError\u001b[0m\u001b[0;31m:\u001b[0m invalid syntax\n"
     ]
    }
   ],
   "source": [
    "import os\n",
    "import urllib2\n",
    "import re\n",
    "from bs4 import BeautifulSoup\n",
    "\n",
    "def get_ulist_o(search_word):\n",
    "    #前のバージョン\n",
    "    #http://stackoverflow.com/questions/20716842/python-download-images-from-google-image-search\n",
    "    url=\"https://www.google.co.in/search?q=\"+search_word+\"&source=lnms&tbm=isch\"\n",
    "    header = {'User-Agent': 'Mozilla/5.0'}\n",
    "    soup=BeautifulSoup(urllib2.urlopen(urllib2.Request(url,headers=header)),\"lxml\") \n",
    "    ulist = [a['src'] for a in soup.find_all(\"img\", {\"src\": re.compile(\"gstatic.com\")})]\n",
    "    return ulist\n",
    "\n",
    "def get_ulist(search_word,n):\n",
    "    #新しいバージョン\n",
    "    from selenium import webdriver\n",
    "    from ast import literal_eval\n",
    "    if n>400:print(\"n should be less than 400\");exit()\n",
    "\n",
    "    url=\"https://www.google.co.in/search?q=\"+search_word+\"&source=lnms&tbm=isch\"\n",
    "    chromedriver = \"./chromedriver\"\n",
    "    driver = webdriver.Chrome(chromedriver)\n",
    "    driver.get(url)\n",
    "\n",
    "    cnt=0\n",
    "    while (cnt<n):\n",
    "      driver.execute_script(\"window.scrollTo(0, document.body.scrollHeight);\")\n",
    "      page_source= driver.page_source\n",
    "      soup=BeautifulSoup(page_source,\"lxml\")\n",
    "      soup= soup.find_all('div', class_=\"rg_meta\")\n",
    "      cnt=len(soup)\n",
    "    else:\n",
    "      driver.quit()\n",
    "\n",
    "    ulist=[]\n",
    "    for i in soup:\n",
    "      dic=i.text.replace(\"false\",\"False\").replace(\"true\",\"True\")\n",
    "      ulist.append(literal_eval(dic)[\"ou\"])\n",
    "    return ulist[:n]\n",
    "\n",
    "def get_img(search_word,n):\n",
    "    FOLDERNAME=str(search_word)\n",
    "    if os.path.exists(FOLDERNAME)==False:\n",
    "      os.mkdir(FOLDERNAME)\n",
    "\n",
    "    urls=get_ulist(search_word,n)\n",
    "\n",
    "    for cntr,img in enumerate(urls): \n",
    "      print \"[%03d]Downloading.. %s\"%(cntr,img)\n",
    "      try:\n",
    "          raw_img = urllib2.urlopen(img).read()\n",
    "          f = open('%s/%s_%03d.jpg' % (FOLDERNAME, search_word, cntr), 'wb')\n",
    "          f.write(raw_img)\n",
    "          f.close()\n",
    "      except:\n",
    "          pass\n",
    "\n",
    "get_img(\"獺祭\",10)\n"
   ]
  },
  {
   "cell_type": "code",
   "execution_count": null,
   "metadata": {
    "collapsed": true
   },
   "outputs": [],
   "source": []
  }
 ],
 "metadata": {
  "kernelspec": {
   "display_name": "Python 3",
   "language": "python",
   "name": "python3"
  },
  "language_info": {
   "codemirror_mode": {
    "name": "ipython",
    "version": 3
   },
   "file_extension": ".py",
   "mimetype": "text/x-python",
   "name": "python",
   "nbconvert_exporter": "python",
   "pygments_lexer": "ipython3",
   "version": "3.5.1"
  }
 },
 "nbformat": 4,
 "nbformat_minor": 0
}
